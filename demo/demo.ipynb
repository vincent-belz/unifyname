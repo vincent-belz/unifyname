{
 "cells": [
  {
   "cell_type": "code",
   "execution_count": 1,
   "id": "2c7594f5",
   "metadata": {},
   "outputs": [],
   "source": [
    "import pandas as pd\n",
    "import os,sys,inspect\n",
    "currentdir = os.path.dirname(os.path.abspath(inspect.getfile(inspect.currentframe())))\n",
    "sys.path.append('..')\n",
    "from unifyname.utils import unify_names"
   ]
  },
  {
   "cell_type": "code",
   "execution_count": 2,
   "id": "7fdb343f",
   "metadata": {},
   "outputs": [],
   "source": [
    "data = pd.read_csv(\"../data/sample_data_nlp.csv\",index_col=0)"
   ]
  },
  {
   "cell_type": "code",
   "execution_count": 3,
   "id": "f151a4cc",
   "metadata": {},
   "outputs": [
    {
     "data": {
      "text/plain": [
       "SANTA EFIGENIA     557\n",
       "STA EFIGENIA       198\n",
       "SANTA IFIGENIA     191\n",
       "STA IFIGENIA        50\n",
       "STA. EFIGENIA        2\n",
       "SANTA HEFIGENIA      1\n",
       "SANTA HIFIGENIA      1\n",
       "Name: BAIRRO DO IMOVEL, dtype: int64"
      ]
     },
     "execution_count": 3,
     "metadata": {},
     "output_type": "execute_result"
    }
   ],
   "source": [
    "data['BAIRRO DO IMOVEL'].value_counts()"
   ]
  },
  {
   "cell_type": "code",
   "execution_count": 4,
   "id": "4171b362",
   "metadata": {},
   "outputs": [],
   "source": [
    "data = unify_names(data,column='BAIRRO DO IMOVEL',threshold_count=500)"
   ]
  },
  {
   "cell_type": "code",
   "execution_count": 5,
   "id": "23d1d880",
   "metadata": {},
   "outputs": [
    {
     "data": {
      "text/plain": [
       "SANTA EFIGENIA    1000\n",
       "Name: BAIRRO DO IMOVEL, dtype: int64"
      ]
     },
     "execution_count": 5,
     "metadata": {},
     "output_type": "execute_result"
    }
   ],
   "source": [
    "data['BAIRRO DO IMOVEL'].value_counts()"
   ]
  },
  {
   "cell_type": "code",
   "execution_count": null,
   "id": "fa06ee84",
   "metadata": {},
   "outputs": [],
   "source": []
  }
 ],
 "metadata": {
  "kernelspec": {
   "display_name": "unifyname",
   "language": "python",
   "name": "unifyname"
  },
  "language_info": {
   "codemirror_mode": {
    "name": "ipython",
    "version": 3
   },
   "file_extension": ".py",
   "mimetype": "text/x-python",
   "name": "python",
   "nbconvert_exporter": "python",
   "pygments_lexer": "ipython3",
   "version": "3.9.7"
  }
 },
 "nbformat": 4,
 "nbformat_minor": 5
}
