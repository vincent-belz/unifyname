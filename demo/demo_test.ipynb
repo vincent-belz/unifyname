{
 "cells": [
  {
   "cell_type": "code",
   "execution_count": 16,
   "id": "62b1797e",
   "metadata": {},
   "outputs": [],
   "source": [
    "import pandas as pd\n",
    "import os,sys,inspect\n",
    "currentdir = os.path.dirname(os.path.abspath(inspect.getfile(inspect.currentframe())))\n",
    "sys.path.append('..')\n",
    "from unifyname.utils import unify_names, deduplicate_list_string"
   ]
  },
  {
   "cell_type": "code",
   "execution_count": 2,
   "id": "ec829f1a",
   "metadata": {},
   "outputs": [],
   "source": [
    "data = pd.read_csv(\"../data/sample_data_nlp.csv\",index_col=0)"
   ]
  },
  {
   "cell_type": "code",
   "execution_count": 4,
   "id": "2cd09457",
   "metadata": {},
   "outputs": [],
   "source": [
    "input_size = len(data['BAIRRO DO IMOVEL'].value_counts())"
   ]
  },
  {
   "cell_type": "code",
   "execution_count": 5,
   "id": "605e30dd",
   "metadata": {},
   "outputs": [],
   "source": [
    "data = unify_names(data,column='BAIRRO DO IMOVEL',threshold_count=500)"
   ]
  },
  {
   "cell_type": "code",
   "execution_count": 6,
   "id": "97f56c66",
   "metadata": {},
   "outputs": [],
   "source": [
    "output_size = len(data['BAIRRO DO IMOVEL'].value_counts())"
   ]
  },
  {
   "cell_type": "code",
   "execution_count": 8,
   "id": "a21ce9cf",
   "metadata": {},
   "outputs": [
    {
     "data": {
      "text/plain": [
       "1"
      ]
     },
     "execution_count": 8,
     "metadata": {},
     "output_type": "execute_result"
    }
   ],
   "source": [
    "output_size"
   ]
  },
  {
   "cell_type": "code",
   "execution_count": 11,
   "id": "581a465f",
   "metadata": {},
   "outputs": [],
   "source": [
    "assert output_size < input_size"
   ]
  },
  {
   "cell_type": "code",
   "execution_count": 15,
   "id": "6417eb70",
   "metadata": {},
   "outputs": [],
   "source": [
    "assert data['BAIRRO DO IMOVEL'].unique()[0] == 'SANTA EFIGENIA'"
   ]
  },
  {
   "cell_type": "code",
   "execution_count": 18,
   "id": "3110d54a",
   "metadata": {},
   "outputs": [],
   "source": [
    "list_in = ['SANTA EFIGENIA','SANTA IFIGENIA']\n",
    "list_ou = deduplicate_list_string(list_in,threshold=80)"
   ]
  },
  {
   "cell_type": "code",
   "execution_count": 19,
   "id": "8501e3eb",
   "metadata": {},
   "outputs": [
    {
     "data": {
      "text/plain": [
       "['SANTA EFIGENIA']"
      ]
     },
     "execution_count": 19,
     "metadata": {},
     "output_type": "execute_result"
    }
   ],
   "source": [
    "list_ou"
   ]
  },
  {
   "cell_type": "code",
   "execution_count": null,
   "id": "35bbdc8f",
   "metadata": {},
   "outputs": [],
   "source": []
  }
 ],
 "metadata": {
  "kernelspec": {
   "display_name": "unifyname",
   "language": "python",
   "name": "unifyname"
  },
  "language_info": {
   "codemirror_mode": {
    "name": "ipython",
    "version": 3
   },
   "file_extension": ".py",
   "mimetype": "text/x-python",
   "name": "python",
   "nbconvert_exporter": "python",
   "pygments_lexer": "ipython3",
   "version": "3.9.7"
  }
 },
 "nbformat": 4,
 "nbformat_minor": 5
}
